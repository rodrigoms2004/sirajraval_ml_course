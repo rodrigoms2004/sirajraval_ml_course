{
 "cells": [
  {
   "cell_type": "markdown",
   "metadata": {},
   "source": [
    "## TextBlob Example\n",
    "https://textblob.readthedocs.io/en/dev/"
   ]
  },
  {
   "cell_type": "markdown",
   "metadata": {},
   "source": [
    "### Installing it"
   ]
  },
  {
   "cell_type": "code",
   "execution_count": 1,
   "metadata": {},
   "outputs": [
    {
     "name": "stdout",
     "output_type": "stream",
     "text": [
      "Collecting textblob\n",
      "\u001b[?25l  Downloading https://files.pythonhosted.org/packages/60/f0/1d9bfcc8ee6b83472ec571406bd0dd51c0e6330ff1a51b2d29861d389e85/textblob-0.15.3-py2.py3-none-any.whl (636kB)\n",
      "\u001b[K     |████████████████████████████████| 645kB 299kB/s eta 0:00:01\n",
      "\u001b[?25hRequirement already satisfied, skipping upgrade: nltk>=3.1 in /home/rodrigo/anaconda3/lib/python3.6/site-packages (from textblob) (3.2.5)\n",
      "Requirement already satisfied, skipping upgrade: six in /home/rodrigo/anaconda3/lib/python3.6/site-packages (from nltk>=3.1->textblob) (1.11.0)\n",
      "Installing collected packages: textblob\n",
      "  Found existing installation: textblob 0.15.1\n",
      "    Uninstalling textblob-0.15.1:\n",
      "      Successfully uninstalled textblob-0.15.1\n",
      "Successfully installed textblob-0.15.3\n"
     ]
    }
   ],
   "source": [
    "!pip install -U textblob"
   ]
  },
  {
   "cell_type": "markdown",
   "metadata": {},
   "source": [
    "### Downloading the dictionaries"
   ]
  },
  {
   "cell_type": "code",
   "execution_count": 3,
   "metadata": {},
   "outputs": [
    {
     "name": "stdout",
     "output_type": "stream",
     "text": [
      "[nltk_data] Downloading package brown to /home/rodrigo/nltk_data...\n",
      "[nltk_data]   Unzipping corpora/brown.zip.\n",
      "[nltk_data] Downloading package punkt to /home/rodrigo/nltk_data...\n",
      "[nltk_data]   Unzipping tokenizers/punkt.zip.\n",
      "[nltk_data] Downloading package wordnet to /home/rodrigo/nltk_data...\n",
      "[nltk_data]   Unzipping corpora/wordnet.zip.\n",
      "[nltk_data] Downloading package averaged_perceptron_tagger to\n",
      "[nltk_data]     /home/rodrigo/nltk_data...\n",
      "[nltk_data]   Unzipping taggers/averaged_perceptron_tagger.zip.\n",
      "[nltk_data] Downloading package conll2000 to\n",
      "[nltk_data]     /home/rodrigo/nltk_data...\n",
      "[nltk_data]   Unzipping corpora/conll2000.zip.\n",
      "[nltk_data] Downloading package movie_reviews to\n",
      "[nltk_data]     /home/rodrigo/nltk_data...\n",
      "[nltk_data]   Unzipping corpora/movie_reviews.zip.\n",
      "Finished.\n"
     ]
    }
   ],
   "source": [
    "!python -m textblob.download_corpora"
   ]
  },
  {
   "cell_type": "code",
   "execution_count": 19,
   "metadata": {},
   "outputs": [
    {
     "name": "stdout",
     "output_type": "stream",
     "text": [
      "corpora  taggers  tokenizers\r\n"
     ]
    }
   ],
   "source": [
    "# For linux users!\n",
    "!ls ~/nltk_data/    "
   ]
  },
  {
   "cell_type": "markdown",
   "metadata": {},
   "source": [
    "## Simple Example\n",
    "\n",
    "TextBlob is a Python (2 and 3) library for processing textual data. It provides a simple API for diving into common natural language processing (NLP) tasks such as part-of-speech tagging, noun phrase extraction, sentiment analysis, classification, translation, and more."
   ]
  },
  {
   "cell_type": "code",
   "execution_count": 8,
   "metadata": {},
   "outputs": [],
   "source": [
    "from textblob import TextBlob"
   ]
  },
  {
   "cell_type": "code",
   "execution_count": 10,
   "metadata": {},
   "outputs": [],
   "source": [
    "text = '''\n",
    "The titular threat of The Blob has always struck me as the ultimate movie\n",
    "monster: an insatiably hungry, amoeba-like mass able to penetrate\n",
    "virtually any safeguard, capable of--as a doomed doctor chillingly\n",
    "describes it--\"assimilating flesh on contact.\n",
    "Snide comparisons to gelatin be damned, it's a concept with the most\n",
    "devastating of potential consequences, not unlike the grey goo scenario\n",
    "proposed by technological theorists fearful of\n",
    "artificial intelligence run rampant.\n",
    "'''"
   ]
  },
  {
   "cell_type": "code",
   "execution_count": 23,
   "metadata": {},
   "outputs": [
    {
     "name": "stdout",
     "output_type": "stream",
     "text": [
      "0.06000000000000001\n",
      "0.605\n",
      "-0.34166666666666673\n",
      "0.7666666666666666\n"
     ]
    }
   ],
   "source": [
    "blob = TextBlob(text)\n",
    "blob.tags           # [('The', 'DT'), ('titular', 'JJ'),\n",
    "                    #  ('threat', 'NN'), ('of', 'IN'), ...]\n",
    "    \n",
    "blob.noun_phrases   # WordList(['titular threat', 'blob',\n",
    "                    #            'ultimate movie monster',\n",
    "                    #            'amoeba-like mass', ...])\n",
    "\n",
    "for sentence in blob.sentences:\n",
    "    print(sentence.sentiment.polarity)\n",
    "    print(sentence.sentiment.subjectivity)\n",
    "    \n",
    "\n",
    "#  0.06000000000000001\n",
    "# -0.34166666666666673"
   ]
  },
  {
   "cell_type": "markdown",
   "metadata": {},
   "source": [
    "### Polarity and subjectivity\n",
    "https://planspace.org/20150607-textblob_sentiment/"
   ]
  },
  {
   "cell_type": "code",
   "execution_count": 28,
   "metadata": {},
   "outputs": [
    {
     "data": {
      "text/plain": [
       "Sentiment(polarity=-0.3076923076923077, subjectivity=0.5769230769230769)"
      ]
     },
     "execution_count": 28,
     "metadata": {},
     "output_type": "execute_result"
    }
   ],
   "source": [
    "TextBlob(\"not a very great calculation\").sentiment\n",
    "# Sentiment(polarity=-0.3076923076923077, subjectivity=0.5769230769230769)"
   ]
  },
  {
   "cell_type": "markdown",
   "metadata": {},
   "source": [
    "This tells us that the English phrase “not a very great calculation” has a polarity of about -0.3, meaning it is slightly negative, and a subjectivity of about 0.6, meaning it is fairly subjective."
   ]
  },
  {
   "cell_type": "code",
   "execution_count": 47,
   "metadata": {},
   "outputs": [],
   "source": [
    "# import requests\n",
    "\n",
    "# print('Beginning file download with requests')\n",
    "\n",
    "# url = 'https://github.com/sloria/TextBlob/blob/eb08c120d364e908646731d60b4e4c6c1712ff63/textblob/en/en-sentiment.xml'\n",
    "# r = requests.get(url)"
   ]
  },
  {
   "cell_type": "code",
   "execution_count": 32,
   "metadata": {},
   "outputs": [
    {
     "data": {
      "text/plain": [
       "Sentiment(polarity=0.8, subjectivity=0.75)"
      ]
     },
     "execution_count": 32,
     "metadata": {},
     "output_type": "execute_result"
    }
   ],
   "source": [
    "TextBlob(\"great\").sentiment\n",
    "## Sentiment(polarity=0.8, subjectivity=0.75)"
   ]
  },
  {
   "cell_type": "code",
   "execution_count": 43,
   "metadata": {},
   "outputs": [
    {
     "data": {
      "text/plain": [
       "Sentiment(polarity=-0.4, subjectivity=0.75)"
      ]
     },
     "execution_count": 43,
     "metadata": {},
     "output_type": "execute_result"
    }
   ],
   "source": [
    "TextBlob(\"not great\").sentiment\n",
    "## Sentiment(polarity=-0.4, subjectivity=0.75)"
   ]
  },
  {
   "cell_type": "code",
   "execution_count": 44,
   "metadata": {},
   "outputs": [
    {
     "data": {
      "text/plain": [
       "Sentiment(polarity=-0.3076923076923077, subjectivity=0.5769230769230769)"
      ]
     },
     "execution_count": 44,
     "metadata": {},
     "output_type": "execute_result"
    }
   ],
   "source": [
    "TextBlob(\"not very great\").sentiment\n",
    "## Sentiment(polarity=-0.3076923076923077, subjectivity=0.5769230769230769)"
   ]
  },
  {
   "cell_type": "markdown",
   "metadata": {},
   "source": [
    "### XML File\n",
    "https://medium.com/@robertopreste/from-xml-to-pandas-dataframes-9292980b1c1c"
   ]
  },
  {
   "cell_type": "code",
   "execution_count": 152,
   "metadata": {},
   "outputs": [
    {
     "name": "stdout",
     "output_type": "stream",
     "text": [
      "<Element 'sentiment' at 0x7f6e6c03ff48>\n"
     ]
    }
   ],
   "source": [
    "import numpy as np\n",
    "import pandas as pd\n",
    "import xml.etree.ElementTree as et\n",
    "\n",
    "xtree = et.parse(\"./data/en-sentiment.xml\")\n",
    "xroot = xtree.getroot()\n",
    "\n",
    "print(xroot)"
   ]
  },
  {
   "cell_type": "markdown",
   "metadata": {},
   "source": [
    "#### Creating a dataframe of sentiments"
   ]
  },
  {
   "cell_type": "code",
   "execution_count": 153,
   "metadata": {},
   "outputs": [
    {
     "name": "stdout",
     "output_type": "stream",
     "text": [
      "Dataframe has 2918 rows and 5 columns\n"
     ]
    }
   ],
   "source": [
    "df_columns = ['sense', 'polarity', 'subjectivity', 'intensity', 'confidence']\n",
    "rows = []\n",
    "\n",
    "for node in xroot: \n",
    "    s_sense = node.attrib.get(\"sense\")\n",
    "    s_polarity = node.attrib.get(\"polarity\")\n",
    "    s_subjectivity = node.attrib.get(\"subjectivity\")\n",
    "    s_intensity = node.attrib.get(\"intensity\")\n",
    "    s_confidence = node.attrib.get(\"confidence\")\n",
    "    \n",
    "    rows.append({\"sense\": s_sense, \"polarity\": s_polarity, \"subjectivity\": s_subjectivity,\n",
    "                \"intensity\": s_intensity, \"confidence\": s_confidence})\n",
    "\n",
    "sentimentDataframe = pd.DataFrame(rows, columns = df_columns)\n",
    "print(\"Dataframe has\", sentimentDataframe.shape[0], \"rows and\", sentimentDataframe.shape[1], \"columns\")"
   ]
  },
  {
   "cell_type": "code",
   "execution_count": 154,
   "metadata": {},
   "outputs": [
    {
     "data": {
      "text/html": [
       "<div>\n",
       "<style scoped>\n",
       "    .dataframe tbody tr th:only-of-type {\n",
       "        vertical-align: middle;\n",
       "    }\n",
       "\n",
       "    .dataframe tbody tr th {\n",
       "        vertical-align: top;\n",
       "    }\n",
       "\n",
       "    .dataframe thead th {\n",
       "        text-align: right;\n",
       "    }\n",
       "</style>\n",
       "<table border=\"1\" class=\"dataframe\">\n",
       "  <thead>\n",
       "    <tr style=\"text-align: right;\">\n",
       "      <th></th>\n",
       "      <th>sense</th>\n",
       "      <th>polarity</th>\n",
       "      <th>subjectivity</th>\n",
       "      <th>intensity</th>\n",
       "      <th>confidence</th>\n",
       "    </tr>\n",
       "  </thead>\n",
       "  <tbody>\n",
       "    <tr>\n",
       "      <td>0</td>\n",
       "      <td>coming next after the twelfth in position</td>\n",
       "      <td>0.0</td>\n",
       "      <td>0.0</td>\n",
       "      <td>1.0</td>\n",
       "      <td>0.9</td>\n",
       "    </tr>\n",
       "    <tr>\n",
       "      <td>1</td>\n",
       "      <td>coming next after the nineteenth in position</td>\n",
       "      <td>0.0</td>\n",
       "      <td>0.0</td>\n",
       "      <td>1.0</td>\n",
       "      <td>0.9</td>\n",
       "    </tr>\n",
       "    <tr>\n",
       "      <td>2</td>\n",
       "      <td>coming next after the twentieth in position</td>\n",
       "      <td>0.0</td>\n",
       "      <td>0.0</td>\n",
       "      <td>1.0</td>\n",
       "      <td>0.9</td>\n",
       "    </tr>\n",
       "    <tr>\n",
       "      <td>3</td>\n",
       "      <td>coming next after the first in position in spa...</td>\n",
       "      <td>0.0</td>\n",
       "      <td>0.0</td>\n",
       "      <td>1.0</td>\n",
       "      <td>0.9</td>\n",
       "    </tr>\n",
       "    <tr>\n",
       "      <td>4</td>\n",
       "      <td>coming next after the second and just before t...</td>\n",
       "      <td>0.0</td>\n",
       "      <td>0.0</td>\n",
       "      <td>1.0</td>\n",
       "      <td>0.9</td>\n",
       "    </tr>\n",
       "  </tbody>\n",
       "</table>\n",
       "</div>"
      ],
      "text/plain": [
       "                                               sense polarity subjectivity  \\\n",
       "0          coming next after the twelfth in position      0.0          0.0   \n",
       "1       coming next after the nineteenth in position      0.0          0.0   \n",
       "2        coming next after the twentieth in position      0.0          0.0   \n",
       "3  coming next after the first in position in spa...      0.0          0.0   \n",
       "4  coming next after the second and just before t...      0.0          0.0   \n",
       "\n",
       "  intensity confidence  \n",
       "0       1.0        0.9  \n",
       "1       1.0        0.9  \n",
       "2       1.0        0.9  \n",
       "3       1.0        0.9  \n",
       "4       1.0        0.9  "
      ]
     },
     "execution_count": 154,
     "metadata": {},
     "output_type": "execute_result"
    }
   ],
   "source": [
    "sentimentDataframe.head()"
   ]
  },
  {
   "cell_type": "markdown",
   "metadata": {},
   "source": [
    "#### Inserting TextBlob results in the dataframe"
   ]
  },
  {
   "cell_type": "code",
   "execution_count": 155,
   "metadata": {},
   "outputs": [],
   "source": [
    "blob_polarity_list = []\n",
    "blob_subjectivity_list = []\n",
    "for index, row in sentimentDataframe.iterrows():\n",
    "    sense = str(row['sense'])\n",
    "#     polarity = float(row['polarity'])\n",
    "#     subjectivity = float(row['subjectivity'])\n",
    "    blob_polarity, blob_subjectivity = TextBlob(sense).sentiment\n",
    "    \n",
    "    blob_polarity_list.append(blob_polarity),\n",
    "    blob_subjectivity_list.append(blob_subjectivity)\n",
    "\n",
    "sentimentDataframe['blob_polarity'] = blob_polarity_list\n",
    "sentimentDataframe['blob_subjectivity'] = blob_subjectivity_list  "
   ]
  },
  {
   "cell_type": "code",
   "execution_count": 156,
   "metadata": {},
   "outputs": [
    {
     "data": {
      "text/html": [
       "<div>\n",
       "<style scoped>\n",
       "    .dataframe tbody tr th:only-of-type {\n",
       "        vertical-align: middle;\n",
       "    }\n",
       "\n",
       "    .dataframe tbody tr th {\n",
       "        vertical-align: top;\n",
       "    }\n",
       "\n",
       "    .dataframe thead th {\n",
       "        text-align: right;\n",
       "    }\n",
       "</style>\n",
       "<table border=\"1\" class=\"dataframe\">\n",
       "  <thead>\n",
       "    <tr style=\"text-align: right;\">\n",
       "      <th></th>\n",
       "      <th>sense</th>\n",
       "      <th>polarity</th>\n",
       "      <th>subjectivity</th>\n",
       "      <th>intensity</th>\n",
       "      <th>confidence</th>\n",
       "      <th>blob_polarity</th>\n",
       "      <th>blob_subjectivity</th>\n",
       "    </tr>\n",
       "  </thead>\n",
       "  <tbody>\n",
       "    <tr>\n",
       "      <td>0</td>\n",
       "      <td>coming next after the twelfth in position</td>\n",
       "      <td>0.0</td>\n",
       "      <td>0.0</td>\n",
       "      <td>1.0</td>\n",
       "      <td>0.9</td>\n",
       "      <td>0.000</td>\n",
       "      <td>0.000000</td>\n",
       "    </tr>\n",
       "    <tr>\n",
       "      <td>1</td>\n",
       "      <td>coming next after the nineteenth in position</td>\n",
       "      <td>0.0</td>\n",
       "      <td>0.0</td>\n",
       "      <td>1.0</td>\n",
       "      <td>0.9</td>\n",
       "      <td>0.000</td>\n",
       "      <td>0.000000</td>\n",
       "    </tr>\n",
       "    <tr>\n",
       "      <td>2</td>\n",
       "      <td>coming next after the twentieth in position</td>\n",
       "      <td>0.0</td>\n",
       "      <td>0.0</td>\n",
       "      <td>1.0</td>\n",
       "      <td>0.9</td>\n",
       "      <td>0.000</td>\n",
       "      <td>0.000000</td>\n",
       "    </tr>\n",
       "    <tr>\n",
       "      <td>3</td>\n",
       "      <td>coming next after the first in position in spa...</td>\n",
       "      <td>0.0</td>\n",
       "      <td>0.0</td>\n",
       "      <td>1.0</td>\n",
       "      <td>0.9</td>\n",
       "      <td>0.125</td>\n",
       "      <td>0.166667</td>\n",
       "    </tr>\n",
       "    <tr>\n",
       "      <td>4</td>\n",
       "      <td>coming next after the second and just before t...</td>\n",
       "      <td>0.0</td>\n",
       "      <td>0.0</td>\n",
       "      <td>1.0</td>\n",
       "      <td>0.9</td>\n",
       "      <td>0.000</td>\n",
       "      <td>0.000000</td>\n",
       "    </tr>\n",
       "  </tbody>\n",
       "</table>\n",
       "</div>"
      ],
      "text/plain": [
       "                                               sense polarity subjectivity  \\\n",
       "0          coming next after the twelfth in position      0.0          0.0   \n",
       "1       coming next after the nineteenth in position      0.0          0.0   \n",
       "2        coming next after the twentieth in position      0.0          0.0   \n",
       "3  coming next after the first in position in spa...      0.0          0.0   \n",
       "4  coming next after the second and just before t...      0.0          0.0   \n",
       "\n",
       "  intensity confidence  blob_polarity  blob_subjectivity  \n",
       "0       1.0        0.9          0.000           0.000000  \n",
       "1       1.0        0.9          0.000           0.000000  \n",
       "2       1.0        0.9          0.000           0.000000  \n",
       "3       1.0        0.9          0.125           0.166667  \n",
       "4       1.0        0.9          0.000           0.000000  "
      ]
     },
     "execution_count": 156,
     "metadata": {},
     "output_type": "execute_result"
    }
   ],
   "source": [
    "sentimentDataframe.head()  "
   ]
  },
  {
   "cell_type": "code",
   "execution_count": 157,
   "metadata": {},
   "outputs": [
    {
     "name": "stdout",
     "output_type": "stream",
     "text": [
      "Dataframe has 2918 rows and 7 columns\n"
     ]
    }
   ],
   "source": [
    "print(\"Dataframe has\", sentimentDataframe.shape[0], \"rows and\", sentimentDataframe.shape[1], \"columns\")"
   ]
  },
  {
   "cell_type": "markdown",
   "metadata": {},
   "source": [
    "#### Changing column type 'polarity' and 'subkectivity' from string to float"
   ]
  },
  {
   "cell_type": "code",
   "execution_count": 158,
   "metadata": {},
   "outputs": [],
   "source": [
    "sentimentDataframe['polarity'] = sentimentDataframe['polarity'].astype(float)\n",
    "sentimentDataframe['subjectivity'] = sentimentDataframe['subjectivity'].astype(float)"
   ]
  },
  {
   "cell_type": "markdown",
   "metadata": {},
   "source": [
    "#### Comparing XML data sentimento to the TextBlob outcome"
   ]
  },
  {
   "cell_type": "code",
   "execution_count": 161,
   "metadata": {},
   "outputs": [
    {
     "name": "stdout",
     "output_type": "stream",
     "text": [
      "Dataframe has 276 rows and 7 columns\n"
     ]
    }
   ],
   "source": [
    "compareSentiment = sentimentDataframe[\n",
    "    (sentimentDataframe['polarity'] == sentimentDataframe['blob_polarity']) &\n",
    "    (sentimentDataframe['subjectivity'] == sentimentDataframe['blob_subjectivity'])\n",
    "]\n",
    "\n",
    "print(\"Dataframe has\", compareSentiment.shape[0], \"rows and\", compareSentiment.shape[1], \"columns\")\n",
    "\n",
    "# a = sentimentDataframe['subjectivity'][0]\n",
    "# b = sentimentDataframe['blob_subjectivity'][0]\n",
    "# a == b"
   ]
  },
  {
   "cell_type": "code",
   "execution_count": 167,
   "metadata": {},
   "outputs": [
    {
     "name": "stdout",
     "output_type": "stream",
     "text": [
      "From 2918 rows, the TextBlob matches 276 rows.\n"
     ]
    }
   ],
   "source": [
    "print(\"From\", sentimentDataframe.shape[0], \"rows, the TextBlob matches\", compareSentiment.shape[0], \"rows.\")"
   ]
  },
  {
   "cell_type": "markdown",
   "metadata": {},
   "source": [
    "### Translating with TextBlob"
   ]
  },
  {
   "cell_type": "markdown",
   "metadata": {},
   "source": [
    "#### Translating to spanish"
   ]
  },
  {
   "cell_type": "code",
   "execution_count": 12,
   "metadata": {},
   "outputs": [
    {
     "data": {
      "text/plain": [
       "TextBlob(\"La amenaza titular de The Blob siempre me ha parecido la mejor película.\n",
       "monstruo: una masa insaciablemente hambrienta, similar a una ameba, capaz de penetrar\n",
       "prácticamente cualquier salvaguarda, capaz de, como un médico condenado, escalofriante\n",
       "lo describe - \"asimilando carne al contacto.\n",
       "Malditas comparaciones con la gelatina, maldita sea, es un concepto con la mayoría\n",
       "devastador de posibles consecuencias, no muy diferente del escenario de la sustancia gris\n",
       "propuesto por teóricos tecnológicos temerosos de\n",
       "la inteligencia artificial corre desenfrenada.\")"
      ]
     },
     "execution_count": 12,
     "metadata": {},
     "output_type": "execute_result"
    }
   ],
   "source": [
    "blob.translate(to=\"es\")  # 'La amenaza titular de The Blob...'"
   ]
  },
  {
   "cell_type": "markdown",
   "metadata": {},
   "source": [
    "#### Translating to brazilian protuguese"
   ]
  },
  {
   "cell_type": "code",
   "execution_count": 16,
   "metadata": {},
   "outputs": [
    {
     "data": {
      "text/plain": [
       "TextBlob(\"A ameaça titular de The Blob sempre me pareceu o melhor filme\n",
       "monstro: uma massa insaciável de fome, semelhante a ameba, capaz de penetrar\n",
       "praticamente qualquer salvaguarda, capaz de - como um médico condenado, arrepiante\n",
       "descreve - \"assimilando carne em contato.\n",
       "Comparações sarcásticas com gelatina, é um conceito com as mais\n",
       "devastador de possíveis consequências, não muito diferente do cenário de gosma cinzenta\n",
       "proposto por teóricos tecnológicos temerosos de\n",
       "inteligência artificial corre solta.\")"
      ]
     },
     "execution_count": 16,
     "metadata": {},
     "output_type": "execute_result"
    }
   ],
   "source": [
    "blob.translate(to=\"pt-br\")"
   ]
  },
  {
   "cell_type": "markdown",
   "metadata": {},
   "source": [
    "#### Translating to german"
   ]
  },
  {
   "cell_type": "code",
   "execution_count": 17,
   "metadata": {},
   "outputs": [
    {
     "data": {
      "text/plain": [
       "TextBlob(\"Die Titelbedrohung von The Blob hat mich immer als ultimativen Film empfunden\n",
       "Monster: eine unersättlich hungrige, amöbenähnliche Masse, die eindringen kann\n",
       "praktisch jede Schutzmaßnahme, die dazu in der Lage ist - als zum Scheitern verurteilter Arzt kühlend\n",
       "beschreibt es - \"Fleisch bei Kontakt assimilieren\".\n",
       "Snide Vergleiche mit Gelatine werden verdammt, es ist ein Konzept mit den meisten\n",
       "Verheerende potenzielle Konsequenzen, ähnlich wie im Szenario der grauen Gänsehaut\n",
       "vorgeschlagen von Technologietheoretikern ängstlich\n",
       "künstliche Intelligenz grassiert.\")"
      ]
     },
     "execution_count": 17,
     "metadata": {},
     "output_type": "execute_result"
    }
   ],
   "source": [
    "blob.translate(to=\"de\")"
   ]
  },
  {
   "cell_type": "markdown",
   "metadata": {},
   "source": [
    "## ToDos\n",
    "https://github.com/shangeth/NLTK-Twitter-Sentiment-Analysis/blob/master/server.py\n",
    "\n",
    "https://stackabuse.com/python-for-nlp-movie-sentiment-analysis-using-deep-learning-in-keras/\n",
    "    \n",
    "https://www.kaggle.com/ngyptr/lstm-sentiment-analysis-keras\n",
    "    \n",
    "https://towardsdatascience.com/machine-learning-word-embedding-sentiment-classification-using-keras-b83c28087456"
   ]
  },
  {
   "cell_type": "code",
   "execution_count": null,
   "metadata": {},
   "outputs": [],
   "source": []
  }
 ],
 "metadata": {
  "kernelspec": {
   "display_name": "Python 3",
   "language": "python",
   "name": "python3"
  },
  "language_info": {
   "codemirror_mode": {
    "name": "ipython",
    "version": 3
   },
   "file_extension": ".py",
   "mimetype": "text/x-python",
   "name": "python",
   "nbconvert_exporter": "python",
   "pygments_lexer": "ipython3",
   "version": "3.6.9"
  }
 },
 "nbformat": 4,
 "nbformat_minor": 2
}
