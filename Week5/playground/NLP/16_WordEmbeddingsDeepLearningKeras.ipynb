{
 "cells": [
  {
   "cell_type": "markdown",
   "metadata": {},
   "source": [
    "## Python for NLP: Word Embeddings for Deep Learning in Keras\n",
    "https://stackabuse.com/python-for-nlp-word-embeddings-for-deep-learning-in-keras/"
   ]
  },
  {
   "cell_type": "code",
   "execution_count": 1,
   "metadata": {},
   "outputs": [
    {
     "name": "stderr",
     "output_type": "stream",
     "text": [
      "/home/rodrigo/anaconda3/lib/python3.6/site-packages/h5py/__init__.py:36: FutureWarning: Conversion of the second argument of issubdtype from `float` to `np.floating` is deprecated. In future, it will be treated as `np.float64 == np.dtype(float).type`.\n",
      "  from ._conv import register_converters as _register_converters\n",
      "Using TensorFlow backend.\n",
      "/home/rodrigo/anaconda3/lib/python3.6/site-packages/tensorflow/python/framework/dtypes.py:526: FutureWarning: Passing (type, 1) or '1type' as a synonym of type is deprecated; in a future version of numpy, it will be understood as (type, (1,)) / '(1,)type'.\n",
      "  _np_qint8 = np.dtype([(\"qint8\", np.int8, 1)])\n",
      "/home/rodrigo/anaconda3/lib/python3.6/site-packages/tensorflow/python/framework/dtypes.py:527: FutureWarning: Passing (type, 1) or '1type' as a synonym of type is deprecated; in a future version of numpy, it will be understood as (type, (1,)) / '(1,)type'.\n",
      "  _np_quint8 = np.dtype([(\"quint8\", np.uint8, 1)])\n",
      "/home/rodrigo/anaconda3/lib/python3.6/site-packages/tensorflow/python/framework/dtypes.py:528: FutureWarning: Passing (type, 1) or '1type' as a synonym of type is deprecated; in a future version of numpy, it will be understood as (type, (1,)) / '(1,)type'.\n",
      "  _np_qint16 = np.dtype([(\"qint16\", np.int16, 1)])\n",
      "/home/rodrigo/anaconda3/lib/python3.6/site-packages/tensorflow/python/framework/dtypes.py:529: FutureWarning: Passing (type, 1) or '1type' as a synonym of type is deprecated; in a future version of numpy, it will be understood as (type, (1,)) / '(1,)type'.\n",
      "  _np_quint16 = np.dtype([(\"quint16\", np.uint16, 1)])\n",
      "/home/rodrigo/anaconda3/lib/python3.6/site-packages/tensorflow/python/framework/dtypes.py:530: FutureWarning: Passing (type, 1) or '1type' as a synonym of type is deprecated; in a future version of numpy, it will be understood as (type, (1,)) / '(1,)type'.\n",
      "  _np_qint32 = np.dtype([(\"qint32\", np.int32, 1)])\n",
      "/home/rodrigo/anaconda3/lib/python3.6/site-packages/tensorflow/python/framework/dtypes.py:535: FutureWarning: Passing (type, 1) or '1type' as a synonym of type is deprecated; in a future version of numpy, it will be understood as (type, (1,)) / '(1,)type'.\n",
      "  np_resource = np.dtype([(\"resource\", np.ubyte, 1)])\n"
     ]
    }
   ],
   "source": [
    "from numpy import array\n",
    "from keras.preprocessing.text import one_hot\n",
    "from keras.preprocessing.sequence import pad_sequences\n",
    "from keras.models import Sequential\n",
    "from keras.layers import Dense\n",
    "from keras.layers import Flatten\n",
    "from keras.layers.embeddings import Embedding"
   ]
  },
  {
   "cell_type": "code",
   "execution_count": 2,
   "metadata": {},
   "outputs": [],
   "source": [
    "corpus = [\n",
    "    # Positive Reviews\n",
    "\n",
    "    'This is an excellent movie',\n",
    "    'The move was fantastic I like it',\n",
    "    'You should watch it is brilliant',\n",
    "    'Exceptionally good',\n",
    "    'Wonderfully directed and executed I like it',\n",
    "    'Its a fantastic series',\n",
    "    'Never watched such a brillent movie',\n",
    "    'It is a Wonderful movie',\n",
    "\n",
    "    # Negtive Reviews\n",
    "\n",
    "    \"horrible acting\",\n",
    "    'waste of money',\n",
    "    'pathetic picture',\n",
    "    'It was very boring',\n",
    "    'I did not like the movie',\n",
    "    'The movie was horrible',\n",
    "    'I will not recommend',\n",
    "    'The acting is pathetic'\n",
    "]"
   ]
  },
  {
   "cell_type": "code",
   "execution_count": 3,
   "metadata": {},
   "outputs": [],
   "source": [
    "sentiments = array([1,1,1,1,1,1,1,1,0,0,0,0,0,0,0,0])"
   ]
  },
  {
   "cell_type": "code",
   "execution_count": 4,
   "metadata": {},
   "outputs": [],
   "source": [
    "from nltk.tokenize import word_tokenize\n",
    "\n",
    "all_words = []\n",
    "for sent in corpus:\n",
    "    tokenize_word = word_tokenize(sent)\n",
    "    for word in tokenize_word:\n",
    "        all_words.append(word)"
   ]
  },
  {
   "cell_type": "code",
   "execution_count": 12,
   "metadata": {},
   "outputs": [
    {
     "ename": "NameError",
     "evalue": "name 'vocab_length' is not defined",
     "output_type": "error",
     "traceback": [
      "\u001b[0;31m---------------------------------------------------------------------------\u001b[0m",
      "\u001b[0;31mNameError\u001b[0m                                 Traceback (most recent call last)",
      "\u001b[0;32m<ipython-input-12-6dd246b7b58e>\u001b[0m in \u001b[0;36m<module>\u001b[0;34m()\u001b[0m\n\u001b[1;32m      1\u001b[0m \u001b[0;31m#  all_words\u001b[0m\u001b[0;34m\u001b[0m\u001b[0;34m\u001b[0m\u001b[0;34m\u001b[0m\u001b[0m\n\u001b[0;32m----> 2\u001b[0;31m \u001b[0mvocab_length\u001b[0m\u001b[0;34m\u001b[0m\u001b[0;34m\u001b[0m\u001b[0m\n\u001b[0m",
      "\u001b[0;31mNameError\u001b[0m: name 'vocab_length' is not defined"
     ]
    }
   ],
   "source": [
    "#  all_words"
   ]
  },
  {
   "cell_type": "code",
   "execution_count": 14,
   "metadata": {},
   "outputs": [
    {
     "name": "stdout",
     "output_type": "stream",
     "text": [
      "45\n"
     ]
    }
   ],
   "source": [
    "unique_words = set(all_words)\n",
    "print(len(unique_words))\n",
    "vocab_length = len(unique_words)"
   ]
  },
  {
   "cell_type": "code",
   "execution_count": 15,
   "metadata": {},
   "outputs": [
    {
     "name": "stdout",
     "output_type": "stream",
     "text": [
      "[[42, 2, 6, 2, 43], [18, 12, 26, 19, 31, 37, 41], [20, 40, 20, 41, 2, 26], [41, 24], [20, 31, 19, 44, 31, 37, 41], [21, 37, 19, 37], [22, 21, 38, 37, 28, 43], [41, 2, 37, 15, 43], [2, 4], [15, 43, 28], [34, 39], [41, 26, 3, 7], [31, 1, 37, 37, 18, 43], [18, 43, 26, 2], [31, 18, 37, 16], [18, 4, 2, 34]]\n"
     ]
    }
   ],
   "source": [
    "embedded_sentences = [one_hot(sent, vocab_length) for sent in corpus]\n",
    "print(embedded_sentences)"
   ]
  },
  {
   "cell_type": "code",
   "execution_count": 16,
   "metadata": {},
   "outputs": [],
   "source": [
    "word_count = lambda sentence: len(word_tokenize(sentence))\n",
    "longest_sentence = max(corpus, key=word_count)\n",
    "length_long_sentence = len(word_tokenize(longest_sentence))"
   ]
  },
  {
   "cell_type": "code",
   "execution_count": 17,
   "metadata": {},
   "outputs": [
    {
     "name": "stdout",
     "output_type": "stream",
     "text": [
      "[[42  2  6  2 43  0  0]\n",
      " [18 12 26 19 31 37 41]\n",
      " [20 40 20 41  2 26  0]\n",
      " [41 24  0  0  0  0  0]\n",
      " [20 31 19 44 31 37 41]\n",
      " [21 37 19 37  0  0  0]\n",
      " [22 21 38 37 28 43  0]\n",
      " [41  2 37 15 43  0  0]\n",
      " [ 2  4  0  0  0  0  0]\n",
      " [15 43 28  0  0  0  0]\n",
      " [34 39  0  0  0  0  0]\n",
      " [41 26  3  7  0  0  0]\n",
      " [31  1 37 37 18 43  0]\n",
      " [18 43 26  2  0  0  0]\n",
      " [31 18 37 16  0  0  0]\n",
      " [18  4  2 34  0  0  0]]\n"
     ]
    }
   ],
   "source": [
    "padded_sentences = pad_sequences(embedded_sentences, length_long_sentence, padding='post')\n",
    "print(padded_sentences)"
   ]
  },
  {
   "cell_type": "code",
   "execution_count": 18,
   "metadata": {},
   "outputs": [
    {
     "name": "stdout",
     "output_type": "stream",
     "text": [
      "WARNING:tensorflow:From /home/rodrigo/anaconda3/lib/python3.6/site-packages/tensorflow/python/framework/op_def_library.py:263: colocate_with (from tensorflow.python.framework.ops) is deprecated and will be removed in a future version.\n",
      "Instructions for updating:\n",
      "Colocations handled automatically by placer.\n"
     ]
    }
   ],
   "source": [
    "model = Sequential()\n",
    "model.add(Embedding(vocab_length, 20, input_length=length_long_sentence))\n",
    "model.add(Flatten())\n",
    "model.add(Dense(1, activation='sigmoid'))"
   ]
  },
  {
   "cell_type": "code",
   "execution_count": 19,
   "metadata": {},
   "outputs": [
    {
     "name": "stdout",
     "output_type": "stream",
     "text": [
      "_________________________________________________________________\n",
      "Layer (type)                 Output Shape              Param #   \n",
      "=================================================================\n",
      "embedding_1 (Embedding)      (None, 7, 20)             900       \n",
      "_________________________________________________________________\n",
      "flatten_1 (Flatten)          (None, 140)               0         \n",
      "_________________________________________________________________\n",
      "dense_1 (Dense)              (None, 1)                 141       \n",
      "=================================================================\n",
      "Total params: 1,041\n",
      "Trainable params: 1,041\n",
      "Non-trainable params: 0\n",
      "_________________________________________________________________\n",
      "None\n"
     ]
    }
   ],
   "source": [
    "model.compile(optimizer='adam', loss='binary_crossentropy', metrics=['acc'])\n",
    "print(model.summary())"
   ]
  },
  {
   "cell_type": "code",
   "execution_count": 20,
   "metadata": {},
   "outputs": [
    {
     "name": "stdout",
     "output_type": "stream",
     "text": [
      "WARNING:tensorflow:From /home/rodrigo/anaconda3/lib/python3.6/site-packages/tensorflow/python/ops/math_ops.py:3066: to_int32 (from tensorflow.python.ops.math_ops) is deprecated and will be removed in a future version.\n",
      "Instructions for updating:\n",
      "Use tf.cast instead.\n",
      "Epoch 1/100\n",
      "16/16 [==============================] - 1s 65ms/step - loss: 0.6902 - acc: 0.5625\n",
      "Epoch 2/100\n",
      "16/16 [==============================] - 0s 612us/step - loss: 0.6869 - acc: 0.6250\n",
      "Epoch 3/100\n",
      "16/16 [==============================] - 0s 360us/step - loss: 0.6840 - acc: 0.6250\n",
      "Epoch 4/100\n",
      "16/16 [==============================] - 0s 229us/step - loss: 0.6810 - acc: 0.6875\n",
      "Epoch 5/100\n",
      "16/16 [==============================] - 0s 162us/step - loss: 0.6776 - acc: 0.6875\n",
      "Epoch 6/100\n",
      "16/16 [==============================] - 0s 169us/step - loss: 0.6745 - acc: 0.6875\n",
      "Epoch 7/100\n",
      "16/16 [==============================] - 0s 122us/step - loss: 0.6711 - acc: 0.6875\n",
      "Epoch 8/100\n",
      "16/16 [==============================] - 0s 275us/step - loss: 0.6679 - acc: 0.7500\n",
      "Epoch 9/100\n",
      "16/16 [==============================] - 0s 136us/step - loss: 0.6646 - acc: 0.8125\n",
      "Epoch 10/100\n",
      "16/16 [==============================] - 0s 155us/step - loss: 0.6613 - acc: 0.8750\n",
      "Epoch 11/100\n",
      "16/16 [==============================] - 0s 250us/step - loss: 0.6580 - acc: 0.8750\n",
      "Epoch 12/100\n",
      "16/16 [==============================] - 0s 245us/step - loss: 0.6547 - acc: 0.8750\n",
      "Epoch 13/100\n",
      "16/16 [==============================] - 0s 156us/step - loss: 0.6513 - acc: 0.8750\n",
      "Epoch 14/100\n",
      "16/16 [==============================] - 0s 133us/step - loss: 0.6479 - acc: 0.8750\n",
      "Epoch 15/100\n",
      "16/16 [==============================] - 0s 130us/step - loss: 0.6445 - acc: 0.8750\n",
      "Epoch 16/100\n",
      "16/16 [==============================] - 0s 197us/step - loss: 0.6411 - acc: 0.8750\n",
      "Epoch 17/100\n",
      "16/16 [==============================] - 0s 142us/step - loss: 0.6376 - acc: 0.9375\n",
      "Epoch 18/100\n",
      "16/16 [==============================] - 0s 190us/step - loss: 0.6341 - acc: 0.9375\n",
      "Epoch 19/100\n",
      "16/16 [==============================] - 0s 177us/step - loss: 0.6305 - acc: 0.9375\n",
      "Epoch 20/100\n",
      "16/16 [==============================] - 0s 128us/step - loss: 0.6270 - acc: 0.9375\n",
      "Epoch 21/100\n",
      "16/16 [==============================] - 0s 205us/step - loss: 0.6234 - acc: 0.9375\n",
      "Epoch 22/100\n",
      "16/16 [==============================] - 0s 193us/step - loss: 0.6197 - acc: 0.9375\n",
      "Epoch 23/100\n",
      "16/16 [==============================] - 0s 103us/step - loss: 0.6161 - acc: 0.9375\n",
      "Epoch 24/100\n",
      "16/16 [==============================] - 0s 85us/step - loss: 0.6124 - acc: 0.9375\n",
      "Epoch 25/100\n",
      "16/16 [==============================] - 0s 74us/step - loss: 0.6087 - acc: 0.9375\n",
      "Epoch 26/100\n",
      "16/16 [==============================] - 0s 64us/step - loss: 0.6050 - acc: 0.9375\n",
      "Epoch 27/100\n",
      "16/16 [==============================] - 0s 69us/step - loss: 0.6012 - acc: 0.9375\n",
      "Epoch 28/100\n",
      "16/16 [==============================] - 0s 71us/step - loss: 0.5973 - acc: 0.9375\n",
      "Epoch 29/100\n",
      "16/16 [==============================] - 0s 76us/step - loss: 0.5934 - acc: 0.9375\n",
      "Epoch 30/100\n",
      "16/16 [==============================] - 0s 158us/step - loss: 0.5895 - acc: 0.9375\n",
      "Epoch 31/100\n",
      "16/16 [==============================] - 0s 110us/step - loss: 0.5856 - acc: 0.9375\n",
      "Epoch 32/100\n",
      "16/16 [==============================] - 0s 155us/step - loss: 0.5816 - acc: 0.9375\n",
      "Epoch 33/100\n",
      "16/16 [==============================] - 0s 127us/step - loss: 0.5776 - acc: 0.9375\n",
      "Epoch 34/100\n",
      "16/16 [==============================] - 0s 143us/step - loss: 0.5735 - acc: 0.9375\n",
      "Epoch 35/100\n",
      "16/16 [==============================] - 0s 180us/step - loss: 0.5693 - acc: 0.9375\n",
      "Epoch 36/100\n",
      "16/16 [==============================] - 0s 257us/step - loss: 0.5652 - acc: 0.9375\n",
      "Epoch 37/100\n",
      "16/16 [==============================] - 0s 218us/step - loss: 0.5610 - acc: 0.9375\n",
      "Epoch 38/100\n",
      "16/16 [==============================] - 0s 96us/step - loss: 0.5567 - acc: 0.9375\n",
      "Epoch 39/100\n",
      "16/16 [==============================] - 0s 167us/step - loss: 0.5524 - acc: 0.9375\n",
      "Epoch 40/100\n",
      "16/16 [==============================] - 0s 120us/step - loss: 0.5481 - acc: 0.9375\n",
      "Epoch 41/100\n",
      "16/16 [==============================] - 0s 183us/step - loss: 0.5438 - acc: 0.9375\n",
      "Epoch 42/100\n",
      "16/16 [==============================] - 0s 107us/step - loss: 0.5394 - acc: 0.9375\n",
      "Epoch 43/100\n",
      "16/16 [==============================] - 0s 104us/step - loss: 0.5350 - acc: 0.9375\n",
      "Epoch 44/100\n",
      "16/16 [==============================] - 0s 101us/step - loss: 0.5306 - acc: 0.9375\n",
      "Epoch 45/100\n",
      "16/16 [==============================] - 0s 97us/step - loss: 0.5262 - acc: 0.9375\n",
      "Epoch 46/100\n",
      "16/16 [==============================] - 0s 104us/step - loss: 0.5217 - acc: 0.9375\n",
      "Epoch 47/100\n",
      "16/16 [==============================] - 0s 92us/step - loss: 0.5172 - acc: 0.9375\n",
      "Epoch 48/100\n",
      "16/16 [==============================] - 0s 101us/step - loss: 0.5127 - acc: 0.9375\n",
      "Epoch 49/100\n",
      "16/16 [==============================] - 0s 102us/step - loss: 0.5082 - acc: 0.9375\n",
      "Epoch 50/100\n",
      "16/16 [==============================] - 0s 101us/step - loss: 0.5036 - acc: 0.9375\n",
      "Epoch 51/100\n",
      "16/16 [==============================] - 0s 97us/step - loss: 0.4990 - acc: 0.9375\n",
      "Epoch 52/100\n",
      "16/16 [==============================] - 0s 108us/step - loss: 0.4944 - acc: 0.9375\n",
      "Epoch 53/100\n",
      "16/16 [==============================] - 0s 103us/step - loss: 0.4898 - acc: 0.9375\n",
      "Epoch 54/100\n",
      "16/16 [==============================] - 0s 124us/step - loss: 0.4852 - acc: 0.9375\n",
      "Epoch 55/100\n",
      "16/16 [==============================] - 0s 117us/step - loss: 0.4806 - acc: 0.9375\n",
      "Epoch 56/100\n",
      "16/16 [==============================] - 0s 75us/step - loss: 0.4759 - acc: 0.9375\n",
      "Epoch 57/100\n",
      "16/16 [==============================] - 0s 92us/step - loss: 0.4713 - acc: 0.9375\n",
      "Epoch 58/100\n",
      "16/16 [==============================] - 0s 101us/step - loss: 0.4667 - acc: 0.9375\n",
      "Epoch 59/100\n",
      "16/16 [==============================] - 0s 87us/step - loss: 0.4621 - acc: 0.9375\n",
      "Epoch 60/100\n",
      "16/16 [==============================] - 0s 222us/step - loss: 0.4574 - acc: 0.9375\n",
      "Epoch 61/100\n",
      "16/16 [==============================] - 0s 99us/step - loss: 0.4528 - acc: 0.9375\n",
      "Epoch 62/100\n",
      "16/16 [==============================] - 0s 88us/step - loss: 0.4481 - acc: 0.9375\n",
      "Epoch 63/100\n",
      "16/16 [==============================] - 0s 133us/step - loss: 0.4435 - acc: 0.9375\n",
      "Epoch 64/100\n",
      "16/16 [==============================] - 0s 114us/step - loss: 0.4388 - acc: 0.9375\n",
      "Epoch 65/100\n",
      "16/16 [==============================] - 0s 146us/step - loss: 0.4342 - acc: 0.9375\n",
      "Epoch 66/100\n",
      "16/16 [==============================] - 0s 109us/step - loss: 0.4296 - acc: 0.9375\n",
      "Epoch 67/100\n",
      "16/16 [==============================] - 0s 142us/step - loss: 0.4250 - acc: 0.9375\n",
      "Epoch 68/100\n",
      "16/16 [==============================] - 0s 202us/step - loss: 0.4204 - acc: 0.9375\n",
      "Epoch 69/100\n",
      "16/16 [==============================] - 0s 105us/step - loss: 0.4158 - acc: 0.9375\n",
      "Epoch 70/100\n",
      "16/16 [==============================] - 0s 104us/step - loss: 0.4112 - acc: 0.9375\n",
      "Epoch 71/100\n",
      "16/16 [==============================] - 0s 98us/step - loss: 0.4067 - acc: 0.9375\n",
      "Epoch 72/100\n",
      "16/16 [==============================] - 0s 105us/step - loss: 0.4021 - acc: 0.9375\n",
      "Epoch 73/100\n",
      "16/16 [==============================] - 0s 109us/step - loss: 0.3976 - acc: 0.9375\n",
      "Epoch 74/100\n",
      "16/16 [==============================] - 0s 109us/step - loss: 0.3930 - acc: 0.9375\n",
      "Epoch 75/100\n",
      "16/16 [==============================] - 0s 108us/step - loss: 0.3885 - acc: 0.9375\n",
      "Epoch 76/100\n",
      "16/16 [==============================] - 0s 95us/step - loss: 0.3841 - acc: 0.9375\n",
      "Epoch 77/100\n",
      "16/16 [==============================] - 0s 106us/step - loss: 0.3796 - acc: 0.9375\n",
      "Epoch 78/100\n",
      "16/16 [==============================] - 0s 99us/step - loss: 0.3752 - acc: 0.9375\n",
      "Epoch 79/100\n",
      "16/16 [==============================] - 0s 100us/step - loss: 0.3707 - acc: 0.9375\n",
      "Epoch 80/100\n",
      "16/16 [==============================] - 0s 99us/step - loss: 0.3664 - acc: 0.9375\n",
      "Epoch 81/100\n",
      "16/16 [==============================] - 0s 113us/step - loss: 0.3620 - acc: 0.9375\n",
      "Epoch 82/100\n",
      "16/16 [==============================] - 0s 103us/step - loss: 0.3577 - acc: 0.9375\n",
      "Epoch 83/100\n",
      "16/16 [==============================] - 0s 92us/step - loss: 0.3533 - acc: 0.9375\n"
     ]
    },
    {
     "name": "stdout",
     "output_type": "stream",
     "text": [
      "Epoch 84/100\n",
      "16/16 [==============================] - 0s 92us/step - loss: 0.3491 - acc: 0.9375\n",
      "Epoch 85/100\n",
      "16/16 [==============================] - 0s 96us/step - loss: 0.3448 - acc: 0.9375\n",
      "Epoch 86/100\n",
      "16/16 [==============================] - 0s 78us/step - loss: 0.3406 - acc: 0.9375\n",
      "Epoch 87/100\n",
      "16/16 [==============================] - 0s 99us/step - loss: 0.3364 - acc: 0.9375\n",
      "Epoch 88/100\n",
      "16/16 [==============================] - 0s 95us/step - loss: 0.3322 - acc: 0.9375\n",
      "Epoch 89/100\n",
      "16/16 [==============================] - 0s 112us/step - loss: 0.3281 - acc: 0.9375\n",
      "Epoch 90/100\n",
      "16/16 [==============================] - 0s 85us/step - loss: 0.3240 - acc: 0.9375\n",
      "Epoch 91/100\n",
      "16/16 [==============================] - 0s 97us/step - loss: 0.3199 - acc: 0.9375\n",
      "Epoch 92/100\n",
      "16/16 [==============================] - 0s 84us/step - loss: 0.3159 - acc: 0.9375\n",
      "Epoch 93/100\n",
      "16/16 [==============================] - 0s 85us/step - loss: 0.3119 - acc: 0.9375\n",
      "Epoch 94/100\n",
      "16/16 [==============================] - 0s 95us/step - loss: 0.3079 - acc: 0.9375\n",
      "Epoch 95/100\n",
      "16/16 [==============================] - 0s 168us/step - loss: 0.3040 - acc: 0.9375\n",
      "Epoch 96/100\n",
      "16/16 [==============================] - 0s 107us/step - loss: 0.3001 - acc: 0.9375\n",
      "Epoch 97/100\n",
      "16/16 [==============================] - 0s 135us/step - loss: 0.2962 - acc: 0.9375\n",
      "Epoch 98/100\n",
      "16/16 [==============================] - 0s 131us/step - loss: 0.2923 - acc: 0.9375\n",
      "Epoch 99/100\n",
      "16/16 [==============================] - 0s 96us/step - loss: 0.2885 - acc: 0.9375\n",
      "Epoch 100/100\n",
      "16/16 [==============================] - 0s 112us/step - loss: 0.2848 - acc: 0.9375\n"
     ]
    },
    {
     "data": {
      "text/plain": [
       "<keras.callbacks.History at 0x7f4b05f05a20>"
      ]
     },
     "execution_count": 20,
     "metadata": {},
     "output_type": "execute_result"
    }
   ],
   "source": [
    "model.fit(padded_sentences, sentiments, epochs=100, verbose=1)\n"
   ]
  },
  {
   "cell_type": "code",
   "execution_count": 21,
   "metadata": {},
   "outputs": [
    {
     "name": "stdout",
     "output_type": "stream",
     "text": [
      "Accuracy: 93.750000\n"
     ]
    }
   ],
   "source": [
    "loss, accuracy = model.evaluate(padded_sentences, sentiments, verbose=0)\n",
    "print('Accuracy: %f' % (accuracy*100))"
   ]
  },
  {
   "cell_type": "markdown",
   "metadata": {},
   "source": [
    "### Loading Pretrained Word Embeddings"
   ]
  },
  {
   "cell_type": "code",
   "execution_count": 27,
   "metadata": {},
   "outputs": [],
   "source": [
    "from numpy import array\n",
    "from keras.preprocessing.text import one_hot, Tokenizer\n",
    "from keras.preprocessing.sequence import pad_sequences\n",
    "from keras.models import Sequential\n",
    "from keras.layers import Dense\n",
    "from keras.layers import Flatten\n",
    "from keras.layers.embeddings import Embedding"
   ]
  },
  {
   "cell_type": "code",
   "execution_count": 28,
   "metadata": {},
   "outputs": [],
   "source": [
    "corpus = [\n",
    "    # Positive Reviews\n",
    "\n",
    "    'This is an excellent movie',\n",
    "    'The move was fantastic I like it',\n",
    "    'You should watch it is brilliant',\n",
    "    'Exceptionally good',\n",
    "    'Wonderfully directed and executed I like it',\n",
    "    'Its a fantastic series',\n",
    "    'Never watched such a brillent movie',\n",
    "    'It is a Wonderful movie',\n",
    "\n",
    "    # Negtive Reviews\n",
    "\n",
    "    \"horrible acting\",\n",
    "    'waste of money',\n",
    "    'pathetic picture',\n",
    "    'It was very boring',\n",
    "    'I did not like the movie',\n",
    "    'The movie was horrible',\n",
    "    'I will not recommend',\n",
    "    'The acting is pathetic'\n",
    "]"
   ]
  },
  {
   "cell_type": "code",
   "execution_count": 29,
   "metadata": {},
   "outputs": [],
   "source": [
    "sentiments = array([1,1,1,1,1,1,1,1,0,0,0,0,0,0,0,0])"
   ]
  },
  {
   "cell_type": "code",
   "execution_count": 30,
   "metadata": {},
   "outputs": [],
   "source": [
    "word_tokenizer = Tokenizer()\n",
    "word_tokenizer.fit_on_texts(corpus)"
   ]
  },
  {
   "cell_type": "code",
   "execution_count": 32,
   "metadata": {},
   "outputs": [],
   "source": [
    "vocab_length = len(word_tokenizer.word_index) + 1"
   ]
  },
  {
   "cell_type": "code",
   "execution_count": 33,
   "metadata": {},
   "outputs": [
    {
     "name": "stdout",
     "output_type": "stream",
     "text": [
      "[[14, 3, 15, 16, 1], [4, 17, 6, 9, 5, 7, 2], [18, 19, 20, 2, 3, 21], [22, 23], [24, 25, 26, 27, 5, 7, 2], [28, 8, 9, 29], [30, 31, 32, 8, 33, 1], [2, 3, 8, 34, 1], [10, 11], [35, 36, 37], [12, 38], [2, 6, 39, 40], [5, 41, 13, 7, 4, 1], [4, 1, 6, 10], [5, 42, 13, 43], [4, 11, 3, 12]]\n"
     ]
    }
   ],
   "source": [
    "embedded_sentences = word_tokenizer.texts_to_sequences(corpus)\n",
    "print(embedded_sentences)"
   ]
  },
  {
   "cell_type": "code",
   "execution_count": 34,
   "metadata": {
    "scrolled": true
   },
   "outputs": [
    {
     "name": "stdout",
     "output_type": "stream",
     "text": [
      "[[14  3 15 16  1  0  0]\n",
      " [ 4 17  6  9  5  7  2]\n",
      " [18 19 20  2  3 21  0]\n",
      " [22 23  0  0  0  0  0]\n",
      " [24 25 26 27  5  7  2]\n",
      " [28  8  9 29  0  0  0]\n",
      " [30 31 32  8 33  1  0]\n",
      " [ 2  3  8 34  1  0  0]\n",
      " [10 11  0  0  0  0  0]\n",
      " [35 36 37  0  0  0  0]\n",
      " [12 38  0  0  0  0  0]\n",
      " [ 2  6 39 40  0  0  0]\n",
      " [ 5 41 13  7  4  1  0]\n",
      " [ 4  1  6 10  0  0  0]\n",
      " [ 5 42 13 43  0  0  0]\n",
      " [ 4 11  3 12  0  0  0]]\n"
     ]
    }
   ],
   "source": [
    "from nltk.tokenize import word_tokenize\n",
    "\n",
    "word_count = lambda sentence: len(word_tokenize(sentence))\n",
    "longest_sentence = max(corpus, key=word_count)\n",
    "length_long_sentence = len(word_tokenize(longest_sentence))\n",
    "\n",
    "padded_sentences = pad_sequences(embedded_sentences, length_long_sentence, padding='post')\n",
    "\n",
    "print(padded_sentences)"
   ]
  },
  {
   "cell_type": "markdown",
   "metadata": {},
   "source": [
    "Download glove.6B.100d.txt from https://www.kaggle.com/terenceliu4444/glove6b100dtxt/download"
   ]
  },
  {
   "cell_type": "code",
   "execution_count": 46,
   "metadata": {},
   "outputs": [],
   "source": [
    "from numpy import array\n",
    "from numpy import asarray\n",
    "from numpy import zeros\n",
    "\n",
    "embeddings_dictionary = dict()\n",
    "glove_file = open('data/glove.6B.100d.txt', encoding=\"utf8\")"
   ]
  },
  {
   "cell_type": "code",
   "execution_count": 47,
   "metadata": {},
   "outputs": [],
   "source": [
    "for line in glove_file:\n",
    "    records = line.split()\n",
    "    word = records[0]\n",
    "    vector_dimensions = asarray(records[1:], dtype='float32')\n",
    "    embeddings_dictionary [word] = vector_dimensions\n",
    "\n",
    "glove_file.close()"
   ]
  },
  {
   "cell_type": "code",
   "execution_count": 48,
   "metadata": {},
   "outputs": [],
   "source": [
    "embedding_matrix = zeros((vocab_length, 100))\n",
    "for word, index in word_tokenizer.word_index.items():\n",
    "    embedding_vector = embeddings_dictionary.get(word)\n",
    "    if embedding_vector is not None:\n",
    "        embedding_matrix[index] = embedding_vector"
   ]
  },
  {
   "cell_type": "code",
   "execution_count": 49,
   "metadata": {},
   "outputs": [],
   "source": [
    "model = Sequential()\n",
    "embedding_layer = Embedding(vocab_length, 100, weights=[embedding_matrix], input_length=length_long_sentence, trainable=False)\n",
    "model.add(embedding_layer)\n",
    "model.add(Flatten())\n",
    "model.add(Dense(1, activation='sigmoid'))"
   ]
  },
  {
   "cell_type": "code",
   "execution_count": 50,
   "metadata": {},
   "outputs": [
    {
     "name": "stdout",
     "output_type": "stream",
     "text": [
      "_________________________________________________________________\n",
      "Layer (type)                 Output Shape              Param #   \n",
      "=================================================================\n",
      "embedding_4 (Embedding)      (None, 7, 100)            4400      \n",
      "_________________________________________________________________\n",
      "flatten_4 (Flatten)          (None, 700)               0         \n",
      "_________________________________________________________________\n",
      "dense_4 (Dense)              (None, 1)                 701       \n",
      "=================================================================\n",
      "Total params: 5,101\n",
      "Trainable params: 701\n",
      "Non-trainable params: 4,400\n",
      "_________________________________________________________________\n",
      "None\n"
     ]
    }
   ],
   "source": [
    "model.compile(optimizer='adam', loss='binary_crossentropy', metrics=['acc'])\n",
    "print(model.summary())"
   ]
  },
  {
   "cell_type": "code",
   "execution_count": 51,
   "metadata": {},
   "outputs": [
    {
     "name": "stdout",
     "output_type": "stream",
     "text": [
      "Epoch 1/100\n",
      "16/16 [==============================] - 0s 25ms/step - loss: 0.5466 - acc: 0.8125\n",
      "Epoch 2/100\n",
      "16/16 [==============================] - 0s 74us/step - loss: 0.5275 - acc: 0.8125\n",
      "Epoch 3/100\n",
      "16/16 [==============================] - 0s 102us/step - loss: 0.5118 - acc: 0.8125\n",
      "Epoch 4/100\n",
      "16/16 [==============================] - 0s 97us/step - loss: 0.4960 - acc: 0.8125\n",
      "Epoch 5/100\n",
      "16/16 [==============================] - 0s 117us/step - loss: 0.4804 - acc: 0.8750\n",
      "Epoch 6/100\n",
      "16/16 [==============================] - 0s 92us/step - loss: 0.4651 - acc: 0.9375\n",
      "Epoch 7/100\n",
      "16/16 [==============================] - 0s 199us/step - loss: 0.4502 - acc: 0.9375\n",
      "Epoch 8/100\n",
      "16/16 [==============================] - 0s 131us/step - loss: 0.4354 - acc: 1.0000\n",
      "Epoch 9/100\n",
      "16/16 [==============================] - 0s 200us/step - loss: 0.4211 - acc: 1.0000\n",
      "Epoch 10/100\n",
      "16/16 [==============================] - 0s 275us/step - loss: 0.4074 - acc: 1.0000\n",
      "Epoch 11/100\n",
      "16/16 [==============================] - 0s 142us/step - loss: 0.3940 - acc: 1.0000\n",
      "Epoch 12/100\n",
      "16/16 [==============================] - 0s 122us/step - loss: 0.3812 - acc: 1.0000\n",
      "Epoch 13/100\n",
      "16/16 [==============================] - 0s 111us/step - loss: 0.3688 - acc: 1.0000\n",
      "Epoch 14/100\n",
      "16/16 [==============================] - 0s 142us/step - loss: 0.3569 - acc: 1.0000\n",
      "Epoch 15/100\n",
      "16/16 [==============================] - 0s 167us/step - loss: 0.3453 - acc: 1.0000\n",
      "Epoch 16/100\n",
      "16/16 [==============================] - 0s 281us/step - loss: 0.3342 - acc: 1.0000\n",
      "Epoch 17/100\n",
      "16/16 [==============================] - 0s 102us/step - loss: 0.3236 - acc: 1.0000\n",
      "Epoch 18/100\n",
      "16/16 [==============================] - 0s 106us/step - loss: 0.3133 - acc: 1.0000\n",
      "Epoch 19/100\n",
      "16/16 [==============================] - 0s 92us/step - loss: 0.3034 - acc: 1.0000\n",
      "Epoch 20/100\n",
      "16/16 [==============================] - 0s 85us/step - loss: 0.2940 - acc: 1.0000\n",
      "Epoch 21/100\n",
      "16/16 [==============================] - 0s 80us/step - loss: 0.2848 - acc: 1.0000\n",
      "Epoch 22/100\n",
      "16/16 [==============================] - 0s 140us/step - loss: 0.2761 - acc: 1.0000\n",
      "Epoch 23/100\n",
      "16/16 [==============================] - 0s 143us/step - loss: 0.2678 - acc: 1.0000\n",
      "Epoch 24/100\n",
      "16/16 [==============================] - 0s 138us/step - loss: 0.2597 - acc: 1.0000\n",
      "Epoch 25/100\n",
      "16/16 [==============================] - 0s 153us/step - loss: 0.2519 - acc: 1.0000\n",
      "Epoch 26/100\n",
      "16/16 [==============================] - 0s 435us/step - loss: 0.2445 - acc: 1.0000\n",
      "Epoch 27/100\n",
      "16/16 [==============================] - 0s 178us/step - loss: 0.2373 - acc: 1.0000\n",
      "Epoch 28/100\n",
      "16/16 [==============================] - 0s 142us/step - loss: 0.2304 - acc: 1.0000\n",
      "Epoch 29/100\n",
      "16/16 [==============================] - 0s 156us/step - loss: 0.2238 - acc: 1.0000\n",
      "Epoch 30/100\n",
      "16/16 [==============================] - 0s 160us/step - loss: 0.2174 - acc: 1.0000\n",
      "Epoch 31/100\n",
      "16/16 [==============================] - 0s 102us/step - loss: 0.2113 - acc: 1.0000\n",
      "Epoch 32/100\n",
      "16/16 [==============================] - 0s 110us/step - loss: 0.2055 - acc: 1.0000\n",
      "Epoch 33/100\n",
      "16/16 [==============================] - 0s 101us/step - loss: 0.1999 - acc: 1.0000\n",
      "Epoch 34/100\n",
      "16/16 [==============================] - 0s 98us/step - loss: 0.1945 - acc: 1.0000\n",
      "Epoch 35/100\n",
      "16/16 [==============================] - 0s 100us/step - loss: 0.1893 - acc: 1.0000\n",
      "Epoch 36/100\n",
      "16/16 [==============================] - 0s 101us/step - loss: 0.1843 - acc: 1.0000\n",
      "Epoch 37/100\n",
      "16/16 [==============================] - 0s 109us/step - loss: 0.1795 - acc: 1.0000\n",
      "Epoch 38/100\n",
      "16/16 [==============================] - 0s 116us/step - loss: 0.1749 - acc: 1.0000\n",
      "Epoch 39/100\n",
      "16/16 [==============================] - 0s 142us/step - loss: 0.1705 - acc: 1.0000\n",
      "Epoch 40/100\n",
      "16/16 [==============================] - 0s 105us/step - loss: 0.1662 - acc: 1.0000\n",
      "Epoch 41/100\n",
      "16/16 [==============================] - 0s 145us/step - loss: 0.1621 - acc: 1.0000\n",
      "Epoch 42/100\n",
      "16/16 [==============================] - 0s 239us/step - loss: 0.1581 - acc: 1.0000\n",
      "Epoch 43/100\n",
      "16/16 [==============================] - 0s 110us/step - loss: 0.1543 - acc: 1.0000\n",
      "Epoch 44/100\n",
      "16/16 [==============================] - 0s 329us/step - loss: 0.1506 - acc: 1.0000\n",
      "Epoch 45/100\n",
      "16/16 [==============================] - 0s 125us/step - loss: 0.1471 - acc: 1.0000\n",
      "Epoch 46/100\n",
      "16/16 [==============================] - 0s 284us/step - loss: 0.1437 - acc: 1.0000\n",
      "Epoch 47/100\n",
      "16/16 [==============================] - 0s 85us/step - loss: 0.1404 - acc: 1.0000\n",
      "Epoch 48/100\n",
      "16/16 [==============================] - 0s 203us/step - loss: 0.1372 - acc: 1.0000\n",
      "Epoch 49/100\n",
      "16/16 [==============================] - 0s 98us/step - loss: 0.1341 - acc: 1.0000\n",
      "Epoch 50/100\n",
      "16/16 [==============================] - 0s 112us/step - loss: 0.1312 - acc: 1.0000\n",
      "Epoch 51/100\n",
      "16/16 [==============================] - 0s 105us/step - loss: 0.1283 - acc: 1.0000\n",
      "Epoch 52/100\n",
      "16/16 [==============================] - 0s 116us/step - loss: 0.1256 - acc: 1.0000\n",
      "Epoch 53/100\n",
      "16/16 [==============================] - 0s 89us/step - loss: 0.1229 - acc: 1.0000\n",
      "Epoch 54/100\n",
      "16/16 [==============================] - 0s 126us/step - loss: 0.1203 - acc: 1.0000\n",
      "Epoch 55/100\n",
      "16/16 [==============================] - 0s 234us/step - loss: 0.1178 - acc: 1.0000\n",
      "Epoch 56/100\n",
      "16/16 [==============================] - 0s 103us/step - loss: 0.1154 - acc: 1.0000\n",
      "Epoch 57/100\n",
      "16/16 [==============================] - 0s 84us/step - loss: 0.1131 - acc: 1.0000\n",
      "Epoch 58/100\n",
      "16/16 [==============================] - 0s 88us/step - loss: 0.1108 - acc: 1.0000\n",
      "Epoch 59/100\n",
      "16/16 [==============================] - 0s 951us/step - loss: 0.1086 - acc: 1.0000\n",
      "Epoch 60/100\n",
      "16/16 [==============================] - 0s 128us/step - loss: 0.1065 - acc: 1.0000\n",
      "Epoch 61/100\n",
      "16/16 [==============================] - 0s 174us/step - loss: 0.1044 - acc: 1.0000\n",
      "Epoch 62/100\n",
      "16/16 [==============================] - 0s 223us/step - loss: 0.1024 - acc: 1.0000\n",
      "Epoch 63/100\n",
      "16/16 [==============================] - 0s 131us/step - loss: 0.1005 - acc: 1.0000\n",
      "Epoch 64/100\n",
      "16/16 [==============================] - 0s 178us/step - loss: 0.0986 - acc: 1.0000\n",
      "Epoch 65/100\n",
      "16/16 [==============================] - 0s 224us/step - loss: 0.0968 - acc: 1.0000\n",
      "Epoch 66/100\n",
      "16/16 [==============================] - 0s 690us/step - loss: 0.0951 - acc: 1.0000\n",
      "Epoch 67/100\n",
      "16/16 [==============================] - 0s 104us/step - loss: 0.0934 - acc: 1.0000\n",
      "Epoch 68/100\n",
      "16/16 [==============================] - 0s 134us/step - loss: 0.0917 - acc: 1.0000\n",
      "Epoch 69/100\n",
      "16/16 [==============================] - 0s 109us/step - loss: 0.0901 - acc: 1.0000\n",
      "Epoch 70/100\n",
      "16/16 [==============================] - 0s 130us/step - loss: 0.0885 - acc: 1.0000\n",
      "Epoch 71/100\n",
      "16/16 [==============================] - 0s 215us/step - loss: 0.0870 - acc: 1.0000\n",
      "Epoch 72/100\n",
      "16/16 [==============================] - 0s 135us/step - loss: 0.0855 - acc: 1.0000\n",
      "Epoch 73/100\n",
      "16/16 [==============================] - 0s 164us/step - loss: 0.0841 - acc: 1.0000\n",
      "Epoch 74/100\n",
      "16/16 [==============================] - 0s 157us/step - loss: 0.0827 - acc: 1.0000\n",
      "Epoch 75/100\n",
      "16/16 [==============================] - 0s 164us/step - loss: 0.0813 - acc: 1.0000\n",
      "Epoch 76/100\n",
      "16/16 [==============================] - 0s 139us/step - loss: 0.0800 - acc: 1.0000\n",
      "Epoch 77/100\n",
      "16/16 [==============================] - 0s 211us/step - loss: 0.0787 - acc: 1.0000\n",
      "Epoch 78/100\n",
      "16/16 [==============================] - 0s 121us/step - loss: 0.0775 - acc: 1.0000\n",
      "Epoch 79/100\n",
      "16/16 [==============================] - 0s 240us/step - loss: 0.0763 - acc: 1.0000\n",
      "Epoch 80/100\n",
      "16/16 [==============================] - 0s 133us/step - loss: 0.0751 - acc: 1.0000\n",
      "Epoch 81/100\n",
      "16/16 [==============================] - 0s 111us/step - loss: 0.0739 - acc: 1.0000\n",
      "Epoch 82/100\n",
      "16/16 [==============================] - 0s 153us/step - loss: 0.0728 - acc: 1.0000\n",
      "Epoch 83/100\n",
      "16/16 [==============================] - 0s 186us/step - loss: 0.0717 - acc: 1.0000\n",
      "Epoch 84/100\n",
      "16/16 [==============================] - 0s 189us/step - loss: 0.0706 - acc: 1.0000\n",
      "Epoch 85/100\n",
      "16/16 [==============================] - 0s 121us/step - loss: 0.0696 - acc: 1.0000\n"
     ]
    },
    {
     "name": "stdout",
     "output_type": "stream",
     "text": [
      "Epoch 86/100\n",
      "16/16 [==============================] - 0s 113us/step - loss: 0.0686 - acc: 1.0000\n",
      "Epoch 87/100\n",
      "16/16 [==============================] - 0s 166us/step - loss: 0.0676 - acc: 1.0000\n",
      "Epoch 88/100\n",
      "16/16 [==============================] - 0s 138us/step - loss: 0.0666 - acc: 1.0000\n",
      "Epoch 89/100\n",
      "16/16 [==============================] - 0s 148us/step - loss: 0.0656 - acc: 1.0000\n",
      "Epoch 90/100\n",
      "16/16 [==============================] - 0s 347us/step - loss: 0.0647 - acc: 1.0000\n",
      "Epoch 91/100\n",
      "16/16 [==============================] - 0s 118us/step - loss: 0.0638 - acc: 1.0000\n",
      "Epoch 92/100\n",
      "16/16 [==============================] - 0s 146us/step - loss: 0.0629 - acc: 1.0000\n",
      "Epoch 93/100\n",
      "16/16 [==============================] - 0s 132us/step - loss: 0.0621 - acc: 1.0000\n",
      "Epoch 94/100\n",
      "16/16 [==============================] - 0s 108us/step - loss: 0.0612 - acc: 1.0000\n",
      "Epoch 95/100\n",
      "16/16 [==============================] - 0s 277us/step - loss: 0.0604 - acc: 1.0000\n",
      "Epoch 96/100\n",
      "16/16 [==============================] - 0s 116us/step - loss: 0.0596 - acc: 1.0000\n",
      "Epoch 97/100\n",
      "16/16 [==============================] - 0s 121us/step - loss: 0.0588 - acc: 1.0000\n",
      "Epoch 98/100\n",
      "16/16 [==============================] - 0s 121us/step - loss: 0.0580 - acc: 1.0000\n",
      "Epoch 99/100\n",
      "16/16 [==============================] - 0s 116us/step - loss: 0.0573 - acc: 1.0000\n",
      "Epoch 100/100\n",
      "16/16 [==============================] - 0s 117us/step - loss: 0.0565 - acc: 1.0000\n"
     ]
    },
    {
     "data": {
      "text/plain": [
       "<keras.callbacks.History at 0x7f4ad6e12240>"
      ]
     },
     "execution_count": 51,
     "metadata": {},
     "output_type": "execute_result"
    }
   ],
   "source": [
    "model.fit(padded_sentences, sentiments, epochs=100, verbose=1)"
   ]
  },
  {
   "cell_type": "code",
   "execution_count": 52,
   "metadata": {},
   "outputs": [
    {
     "name": "stdout",
     "output_type": "stream",
     "text": [
      "Accuracy: 100.000000\n"
     ]
    }
   ],
   "source": [
    "loss, accuracy = model.evaluate(padded_sentences, sentiments, verbose=0)\n",
    "print('Accuracy: %f' % (accuracy*100))\n"
   ]
  },
  {
   "cell_type": "markdown",
   "metadata": {},
   "source": [
    "### Word Embeddings with Keras Functional API"
   ]
  },
  {
   "cell_type": "code",
   "execution_count": 53,
   "metadata": {},
   "outputs": [],
   "source": [
    "from keras.models import Model\n",
    "from keras.layers import Input\n",
    "\n",
    "deep_inputs = Input(shape=(length_long_sentence,))\n",
    "embedding = Embedding(vocab_length, 100, weights=[embedding_matrix], input_length=length_long_sentence, trainable=False)(deep_inputs) # line A\n",
    "flatten = Flatten()(embedding)\n",
    "hidden = Dense(1, activation='sigmoid')(flatten)\n",
    "model = Model(inputs=deep_inputs, outputs=hidden)"
   ]
  },
  {
   "cell_type": "code",
   "execution_count": 54,
   "metadata": {},
   "outputs": [
    {
     "name": "stdout",
     "output_type": "stream",
     "text": [
      "_________________________________________________________________\n",
      "Layer (type)                 Output Shape              Param #   \n",
      "=================================================================\n",
      "input_2 (InputLayer)         (None, 7)                 0         \n",
      "_________________________________________________________________\n",
      "embedding_5 (Embedding)      (None, 7, 100)            4400      \n",
      "_________________________________________________________________\n",
      "flatten_5 (Flatten)          (None, 700)               0         \n",
      "_________________________________________________________________\n",
      "dense_5 (Dense)              (None, 1)                 701       \n",
      "=================================================================\n",
      "Total params: 5,101\n",
      "Trainable params: 701\n",
      "Non-trainable params: 4,400\n",
      "_________________________________________________________________\n",
      "None\n"
     ]
    }
   ],
   "source": [
    "model.compile(optimizer='adam', loss='binary_crossentropy', metrics=['acc'])\n",
    "print(model.summary())"
   ]
  },
  {
   "cell_type": "code",
   "execution_count": 55,
   "metadata": {},
   "outputs": [
    {
     "name": "stdout",
     "output_type": "stream",
     "text": [
      "Epoch 1/100\n",
      "16/16 [==============================] - 1s 35ms/step - loss: 0.7698 - acc: 0.4375\n",
      "Epoch 2/100\n",
      "16/16 [==============================] - 0s 71us/step - loss: 0.7489 - acc: 0.4375\n",
      "Epoch 3/100\n",
      "16/16 [==============================] - 0s 141us/step - loss: 0.7256 - acc: 0.4375\n",
      "Epoch 4/100\n",
      "16/16 [==============================] - 0s 97us/step - loss: 0.6993 - acc: 0.4375\n",
      "Epoch 5/100\n",
      "16/16 [==============================] - 0s 336us/step - loss: 0.6757 - acc: 0.5625\n",
      "Epoch 6/100\n",
      "16/16 [==============================] - 0s 107us/step - loss: 0.6524 - acc: 0.6250\n",
      "Epoch 7/100\n",
      "16/16 [==============================] - 0s 160us/step - loss: 0.6299 - acc: 0.6250\n",
      "Epoch 8/100\n",
      "16/16 [==============================] - 0s 105us/step - loss: 0.6081 - acc: 0.6875\n",
      "Epoch 9/100\n",
      "16/16 [==============================] - 0s 134us/step - loss: 0.5870 - acc: 0.6875\n",
      "Epoch 10/100\n",
      "16/16 [==============================] - 0s 428us/step - loss: 0.5668 - acc: 0.7500\n",
      "Epoch 11/100\n",
      "16/16 [==============================] - 0s 114us/step - loss: 0.5474 - acc: 0.8125\n",
      "Epoch 12/100\n",
      "16/16 [==============================] - 0s 97us/step - loss: 0.5287 - acc: 0.8750\n",
      "Epoch 13/100\n",
      "16/16 [==============================] - 0s 144us/step - loss: 0.5108 - acc: 0.8750\n",
      "Epoch 14/100\n",
      "16/16 [==============================] - 0s 124us/step - loss: 0.4936 - acc: 0.9375\n",
      "Epoch 15/100\n",
      "16/16 [==============================] - 0s 134us/step - loss: 0.4772 - acc: 0.9375\n",
      "Epoch 16/100\n",
      "16/16 [==============================] - 0s 123us/step - loss: 0.4614 - acc: 0.9375\n",
      "Epoch 17/100\n",
      "16/16 [==============================] - 0s 146us/step - loss: 0.4462 - acc: 0.9375\n",
      "Epoch 18/100\n",
      "16/16 [==============================] - 0s 151us/step - loss: 0.4316 - acc: 1.0000\n",
      "Epoch 19/100\n",
      "16/16 [==============================] - 0s 119us/step - loss: 0.4177 - acc: 1.0000\n",
      "Epoch 20/100\n",
      "16/16 [==============================] - 0s 205us/step - loss: 0.4043 - acc: 1.0000\n",
      "Epoch 21/100\n",
      "16/16 [==============================] - 0s 439us/step - loss: 0.3914 - acc: 1.0000\n",
      "Epoch 22/100\n",
      "16/16 [==============================] - 0s 94us/step - loss: 0.3792 - acc: 1.0000\n",
      "Epoch 23/100\n",
      "16/16 [==============================] - 0s 112us/step - loss: 0.3673 - acc: 1.0000\n",
      "Epoch 24/100\n",
      "16/16 [==============================] - 0s 114us/step - loss: 0.3559 - acc: 1.0000\n",
      "Epoch 25/100\n",
      "16/16 [==============================] - 0s 125us/step - loss: 0.3450 - acc: 1.0000\n",
      "Epoch 26/100\n",
      "16/16 [==============================] - 0s 127us/step - loss: 0.3345 - acc: 1.0000\n",
      "Epoch 27/100\n",
      "16/16 [==============================] - 0s 145us/step - loss: 0.3244 - acc: 1.0000\n",
      "Epoch 28/100\n",
      "16/16 [==============================] - 0s 102us/step - loss: 0.3148 - acc: 1.0000\n",
      "Epoch 29/100\n",
      "16/16 [==============================] - 0s 115us/step - loss: 0.3055 - acc: 1.0000\n",
      "Epoch 30/100\n",
      "16/16 [==============================] - 0s 118us/step - loss: 0.2966 - acc: 1.0000\n",
      "Epoch 31/100\n",
      "16/16 [==============================] - 0s 181us/step - loss: 0.2880 - acc: 1.0000\n",
      "Epoch 32/100\n",
      "16/16 [==============================] - 0s 120us/step - loss: 0.2798 - acc: 1.0000\n",
      "Epoch 33/100\n",
      "16/16 [==============================] - 0s 246us/step - loss: 0.2719 - acc: 1.0000\n",
      "Epoch 34/100\n",
      "16/16 [==============================] - 0s 101us/step - loss: 0.2643 - acc: 1.0000\n",
      "Epoch 35/100\n",
      "16/16 [==============================] - 0s 90us/step - loss: 0.2570 - acc: 1.0000\n",
      "Epoch 36/100\n",
      "16/16 [==============================] - 0s 96us/step - loss: 0.2500 - acc: 1.0000\n",
      "Epoch 37/100\n",
      "16/16 [==============================] - 0s 139us/step - loss: 0.2433 - acc: 1.0000\n",
      "Epoch 38/100\n",
      "16/16 [==============================] - 0s 99us/step - loss: 0.2368 - acc: 1.0000\n",
      "Epoch 39/100\n",
      "16/16 [==============================] - 0s 74us/step - loss: 0.2306 - acc: 1.0000\n",
      "Epoch 40/100\n",
      "16/16 [==============================] - 0s 96us/step - loss: 0.2247 - acc: 1.0000\n",
      "Epoch 41/100\n",
      "16/16 [==============================] - 0s 89us/step - loss: 0.2189 - acc: 1.0000\n",
      "Epoch 42/100\n",
      "16/16 [==============================] - 0s 96us/step - loss: 0.2134 - acc: 1.0000\n",
      "Epoch 43/100\n",
      "16/16 [==============================] - 0s 122us/step - loss: 0.2081 - acc: 1.0000\n",
      "Epoch 44/100\n",
      "16/16 [==============================] - 0s 101us/step - loss: 0.2030 - acc: 1.0000\n",
      "Epoch 45/100\n",
      "16/16 [==============================] - 0s 179us/step - loss: 0.1980 - acc: 1.0000\n",
      "Epoch 46/100\n",
      "16/16 [==============================] - 0s 264us/step - loss: 0.1934 - acc: 1.0000\n",
      "Epoch 47/100\n",
      "16/16 [==============================] - 0s 110us/step - loss: 0.1888 - acc: 1.0000\n",
      "Epoch 48/100\n",
      "16/16 [==============================] - 0s 108us/step - loss: 0.1844 - acc: 1.0000\n",
      "Epoch 49/100\n",
      "16/16 [==============================] - 0s 150us/step - loss: 0.1802 - acc: 1.0000\n",
      "Epoch 50/100\n",
      "16/16 [==============================] - 0s 118us/step - loss: 0.1761 - acc: 1.0000\n",
      "Epoch 51/100\n",
      "16/16 [==============================] - 0s 94us/step - loss: 0.1722 - acc: 1.0000\n",
      "Epoch 52/100\n",
      "16/16 [==============================] - 0s 142us/step - loss: 0.1684 - acc: 1.0000\n",
      "Epoch 53/100\n",
      "16/16 [==============================] - 0s 109us/step - loss: 0.1647 - acc: 1.0000\n",
      "Epoch 54/100\n",
      "16/16 [==============================] - 0s 137us/step - loss: 0.1611 - acc: 1.0000\n",
      "Epoch 55/100\n",
      "16/16 [==============================] - 0s 182us/step - loss: 0.1577 - acc: 1.0000\n",
      "Epoch 56/100\n",
      "16/16 [==============================] - 0s 135us/step - loss: 0.1544 - acc: 1.0000\n",
      "Epoch 57/100\n",
      "16/16 [==============================] - 0s 111us/step - loss: 0.1512 - acc: 1.0000\n",
      "Epoch 58/100\n",
      "16/16 [==============================] - 0s 128us/step - loss: 0.1481 - acc: 1.0000\n",
      "Epoch 59/100\n",
      "16/16 [==============================] - 0s 127us/step - loss: 0.1451 - acc: 1.0000\n",
      "Epoch 60/100\n",
      "16/16 [==============================] - 0s 120us/step - loss: 0.1422 - acc: 1.0000\n",
      "Epoch 61/100\n",
      "16/16 [==============================] - 0s 128us/step - loss: 0.1394 - acc: 1.0000\n",
      "Epoch 62/100\n",
      "16/16 [==============================] - 0s 321us/step - loss: 0.1367 - acc: 1.0000\n",
      "Epoch 63/100\n",
      "16/16 [==============================] - 0s 79us/step - loss: 0.1340 - acc: 1.0000\n",
      "Epoch 64/100\n",
      "16/16 [==============================] - 0s 150us/step - loss: 0.1315 - acc: 1.0000\n",
      "Epoch 65/100\n",
      "16/16 [==============================] - 0s 271us/step - loss: 0.1290 - acc: 1.0000\n",
      "Epoch 66/100\n",
      "16/16 [==============================] - 0s 204us/step - loss: 0.1266 - acc: 1.0000\n",
      "Epoch 67/100\n",
      "16/16 [==============================] - 0s 102us/step - loss: 0.1243 - acc: 1.0000\n",
      "Epoch 68/100\n",
      "16/16 [==============================] - 0s 175us/step - loss: 0.1220 - acc: 1.0000\n",
      "Epoch 69/100\n",
      "16/16 [==============================] - 0s 353us/step - loss: 0.1198 - acc: 1.0000\n",
      "Epoch 70/100\n",
      "16/16 [==============================] - 0s 126us/step - loss: 0.1177 - acc: 1.0000\n",
      "Epoch 71/100\n",
      "16/16 [==============================] - 0s 255us/step - loss: 0.1157 - acc: 1.0000\n",
      "Epoch 72/100\n",
      "16/16 [==============================] - 0s 138us/step - loss: 0.1137 - acc: 1.0000\n",
      "Epoch 73/100\n",
      "16/16 [==============================] - 0s 141us/step - loss: 0.1117 - acc: 1.0000\n",
      "Epoch 74/100\n",
      "16/16 [==============================] - 0s 116us/step - loss: 0.1098 - acc: 1.0000\n",
      "Epoch 75/100\n",
      "16/16 [==============================] - 0s 117us/step - loss: 0.1080 - acc: 1.0000\n",
      "Epoch 76/100\n",
      "16/16 [==============================] - 0s 85us/step - loss: 0.1062 - acc: 1.0000\n",
      "Epoch 77/100\n",
      "16/16 [==============================] - 0s 177us/step - loss: 0.1044 - acc: 1.0000\n",
      "Epoch 78/100\n",
      "16/16 [==============================] - 0s 158us/step - loss: 0.1027 - acc: 1.0000\n",
      "Epoch 79/100\n",
      "16/16 [==============================] - 0s 111us/step - loss: 0.1011 - acc: 1.0000\n",
      "Epoch 80/100\n",
      "16/16 [==============================] - 0s 224us/step - loss: 0.0995 - acc: 1.0000\n",
      "Epoch 81/100\n",
      "16/16 [==============================] - 0s 196us/step - loss: 0.0979 - acc: 1.0000\n",
      "Epoch 82/100\n",
      "16/16 [==============================] - 0s 105us/step - loss: 0.0964 - acc: 1.0000\n",
      "Epoch 83/100\n",
      "16/16 [==============================] - 0s 163us/step - loss: 0.0949 - acc: 1.0000\n",
      "Epoch 84/100\n",
      "16/16 [==============================] - 0s 146us/step - loss: 0.0935 - acc: 1.0000\n",
      "Epoch 85/100\n",
      "16/16 [==============================] - 0s 189us/step - loss: 0.0921 - acc: 1.0000\n"
     ]
    },
    {
     "name": "stdout",
     "output_type": "stream",
     "text": [
      "Epoch 86/100\n",
      "16/16 [==============================] - 0s 186us/step - loss: 0.0907 - acc: 1.0000\n",
      "Epoch 87/100\n",
      "16/16 [==============================] - 0s 104us/step - loss: 0.0893 - acc: 1.0000\n",
      "Epoch 88/100\n",
      "16/16 [==============================] - 0s 104us/step - loss: 0.0880 - acc: 1.0000\n",
      "Epoch 89/100\n",
      "16/16 [==============================] - 0s 100us/step - loss: 0.0868 - acc: 1.0000\n",
      "Epoch 90/100\n",
      "16/16 [==============================] - 0s 123us/step - loss: 0.0855 - acc: 1.0000\n",
      "Epoch 91/100\n",
      "16/16 [==============================] - 0s 104us/step - loss: 0.0843 - acc: 1.0000\n",
      "Epoch 92/100\n",
      "16/16 [==============================] - 0s 156us/step - loss: 0.0831 - acc: 1.0000\n",
      "Epoch 93/100\n",
      "16/16 [==============================] - 0s 266us/step - loss: 0.0820 - acc: 1.0000\n",
      "Epoch 94/100\n",
      "16/16 [==============================] - 0s 158us/step - loss: 0.0808 - acc: 1.0000\n",
      "Epoch 95/100\n",
      "16/16 [==============================] - 0s 106us/step - loss: 0.0797 - acc: 1.0000\n",
      "Epoch 96/100\n",
      "16/16 [==============================] - 0s 96us/step - loss: 0.0786 - acc: 1.0000\n",
      "Epoch 97/100\n",
      "16/16 [==============================] - 0s 116us/step - loss: 0.0776 - acc: 1.0000\n",
      "Epoch 98/100\n",
      "16/16 [==============================] - 0s 107us/step - loss: 0.0765 - acc: 1.0000\n",
      "Epoch 99/100\n",
      "16/16 [==============================] - 0s 108us/step - loss: 0.0755 - acc: 1.0000\n",
      "Epoch 100/100\n",
      "16/16 [==============================] - 0s 110us/step - loss: 0.0745 - acc: 1.0000\n",
      "Accuracy: 100.000000\n"
     ]
    }
   ],
   "source": [
    "model.fit(padded_sentences, sentiments, epochs=100, verbose=1)\n",
    "loss, accuracy = model.evaluate(padded_sentences, sentiments, verbose=0)\n",
    "\n",
    "print('Accuracy: %f' % (accuracy*100))"
   ]
  },
  {
   "cell_type": "code",
   "execution_count": null,
   "metadata": {},
   "outputs": [],
   "source": []
  },
  {
   "cell_type": "code",
   "execution_count": null,
   "metadata": {},
   "outputs": [],
   "source": []
  }
 ],
 "metadata": {
  "kernelspec": {
   "display_name": "Python 3",
   "language": "python",
   "name": "python3"
  },
  "language_info": {
   "codemirror_mode": {
    "name": "ipython",
    "version": 3
   },
   "file_extension": ".py",
   "mimetype": "text/x-python",
   "name": "python",
   "nbconvert_exporter": "python",
   "pygments_lexer": "ipython3",
   "version": "3.6.9"
  }
 },
 "nbformat": 4,
 "nbformat_minor": 2
}
